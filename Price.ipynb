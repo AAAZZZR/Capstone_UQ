{
 "cells": [
  {
   "cell_type": "code",
   "execution_count": 2,
   "metadata": {},
   "outputs": [],
   "source": [
    "import requests\n",
    "from bs4 import BeautifulSoup\n",
    "import zipfile\n",
    "import os\n",
    "import time"
   ]
  },
  {
   "cell_type": "code",
   "execution_count": 3,
   "metadata": {},
   "outputs": [
    {
     "name": "stdout",
     "output_type": "stream",
     "text": [
      "Attempting to download: https://nemweb.com.au/Reports/Archive/Public_Prices/PUBLIC_PRICES_20230601.zip\n",
      "Attempting to download: https://nemweb.com.au/Reports/Archive/Public_Prices/PUBLIC_PRICES_20230701.zip\n",
      "Attempting to download: https://nemweb.com.au/Reports/Archive/Public_Prices/PUBLIC_PRICES_20230801.zip\n",
      "Attempting to download: https://nemweb.com.au/Reports/Archive/Public_Prices/PUBLIC_PRICES_20230901.zip\n",
      "Attempting to download: https://nemweb.com.au/Reports/Archive/Public_Prices/PUBLIC_PRICES_20231001.zip\n",
      "Attempting to download: https://nemweb.com.au/Reports/Archive/Public_Prices/PUBLIC_PRICES_20231101.zip\n",
      "Attempting to download: https://nemweb.com.au/Reports/Archive/Public_Prices/PUBLIC_PRICES_20231201.zip\n",
      "Attempting to download: https://nemweb.com.au/Reports/Archive/Public_Prices/PUBLIC_PRICES_20240101.zip\n",
      "Attempting to download: https://nemweb.com.au/Reports/Archive/Public_Prices/PUBLIC_PRICES_20240201.zip\n",
      "Attempting to download: https://nemweb.com.au/Reports/Archive/Public_Prices/PUBLIC_PRICES_20240301.zip\n",
      "Attempting to download: https://nemweb.com.au/Reports/Archive/Public_Prices/PUBLIC_PRICES_20240401.zip\n",
      "Attempting to download: https://nemweb.com.au/Reports/Archive/Public_Prices/PUBLIC_PRICES_20240501.zip\n",
      "Attempting to download: https://nemweb.com.au/Reports/Archive/Public_Prices/PUBLIC_PRICES_20240601.zip\n"
     ]
    }
   ],
   "source": [
    "\n",
    "\n",
    "# Fetch the webpage\n",
    "url = \"https://nemweb.com.au/Reports/Archive/Public_Prices/\"\n",
    "response = requests.get(url)\n",
    "\n",
    "# Parse the HTML\n",
    "soup = BeautifulSoup(response.text, 'html.parser')\n",
    "\n",
    "# Find all links to ZIP files\n",
    "zip_links = [a['href'] for a in soup.find_all('a') if a['href'].endswith('.zip')]\n",
    "\n",
    "for link in zip_links:\n",
    "    # Correct the URL construction\n",
    "    full_url = \"https://nemweb.com.au\" + link\n",
    "    file_name = link.split('/')[-1]\n",
    "    \n",
    "    base = \"./Price\"\n",
    "    file_path = os.path.join(base, file_name)\n",
    "    print(f\"Attempting to download: {full_url}\")\n",
    "    \n",
    "    r = requests.get(full_url, stream=True)\n",
    "\n",
    "    with open(file_path, 'wb') as f:\n",
    "        for chunk in r.iter_content(chunk_size=8192):\n",
    "            f.write(chunk)\n",
    "    \n",
    "    \n",
    "        \n",
    "        \n",
    "    \n"
   ]
  },
  {
   "cell_type": "code",
   "execution_count": 4,
   "metadata": {},
   "outputs": [
    {
     "name": "stdout",
     "output_type": "stream",
     "text": [
      "['PUBLIC_PRICES_20230601.zip', 'PUBLIC_PRICES_20230701.zip', 'PUBLIC_PRICES_20230801.zip', 'PUBLIC_PRICES_20230901.zip', 'PUBLIC_PRICES_20231001.zip', 'PUBLIC_PRICES_20231101.zip', 'PUBLIC_PRICES_20231201.zip', 'PUBLIC_PRICES_20240101.zip', 'PUBLIC_PRICES_20240201.zip', 'PUBLIC_PRICES_20240301.zip', 'PUBLIC_PRICES_20240401.zip', 'PUBLIC_PRICES_20240501.zip', 'PUBLIC_PRICES_20240601.zip']\n"
     ]
    }
   ],
   "source": [
    "from zipfile import ZipFile\n",
    "files = os.listdir(\"./Price\")\n",
    "zip_files = [f for f in files if f.endswith('.zip')]\n",
    "zip_files.sort()\n",
    "print(zip_files)\n",
    "\n",
    "\n",
    "for file in zip_files:\n",
    "    file = os.path.join(\"./Price\" , file)\n",
    "    date_str = file.split('_')[-1].replace('.zip', '')\n",
    "\n",
    "    new_dir = f\"./Roof_sub/{date_str}\"\n",
    "    os.makedirs(new_dir,exist_ok=True)\n",
    "    with zipfile.ZipFile(file, 'r') as zip_ref:\n",
    "        zip_ref.extractall(new_dir)\n",
    "    "
   ]
  },
  {
   "cell_type": "code",
   "execution_count": null,
   "metadata": {},
   "outputs": [],
   "source": []
  }
 ],
 "metadata": {
  "kernelspec": {
   "display_name": "base",
   "language": "python",
   "name": "python3"
  },
  "language_info": {
   "codemirror_mode": {
    "name": "ipython",
    "version": 3
   },
   "file_extension": ".py",
   "mimetype": "text/x-python",
   "name": "python",
   "nbconvert_exporter": "python",
   "pygments_lexer": "ipython3",
   "version": "3.11.3"
  }
 },
 "nbformat": 4,
 "nbformat_minor": 2
}
